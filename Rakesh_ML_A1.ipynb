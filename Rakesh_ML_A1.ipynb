{
  "nbformat": 4,
  "nbformat_minor": 0,
  "metadata": {
    "colab": {
      "provenance": []
    },
    "kernelspec": {
      "name": "python3",
      "display_name": "Python 3"
    },
    "language_info": {
      "name": "python"
    }
  },
  "cells": [
    {
      "cell_type": "code",
      "execution_count": null,
      "metadata": {
        "id": "BiwfS8YXuvPM",
        "colab": {
          "base_uri": "https://localhost:8080/"
        },
        "outputId": "c745a90a-df0f-44ef-927f-8cf76db18685"
      },
      "outputs": [
        {
          "output_type": "stream",
          "name": "stdout",
          "text": [
            "Sorted list: [19, 19, 20, 22, 24, 24, 24, 25, 25, 26]\n",
            "Minimum age is 19 \n",
            "Maximum age is 26\n",
            "Current list is: [19, 19, 20, 22, 24, 24, 24, 25, 25, 26, 19, 26]\n",
            "Median is: 24.0\n",
            "Avereage value is: 22.75\n",
            "Range of ages is :  7\n"
          ]
        }
      ],
      "source": [
        "#Question-1\n",
        "import statistics\n",
        "ages = [19, 22, 19, 24, 20, 25, 26, 24, 25, 24] #-list is created\n",
        "ages.sort()   #-function used for sorting a list\n",
        "print(\"Sorted list:\",ages)\n",
        "Minimum_Value = min(ages) #- assigning min value to variable\n",
        "Maximum_Value = max(ages) #- assigning max value to variable\n",
        "\n",
        "print(\"Minimum age is\", Minimum_Value,\"\\nMaximum age is\", Maximum_Value)\n",
        "ages.append(Minimum_Value),ages.append(Maximum_Value)  #appending the min and max ages to the sorted list.\n",
        "\n",
        "print(\"Current list is:\", ages)  #printing the latest list after adding the min and max ages to list.\n",
        "\n",
        "Median_Value = statistics.median(ages)  #-using median method from statistics module\n",
        "\n",
        "print(\"Median is:\", Median_Value)  \n",
        " \n",
        "Avg = sum(ages)/len(ages)   #finding the average of the list by using sum and length method\n",
        "\n",
        "print (\"Avereage value is:\", Avg)   \n",
        "\n",
        "print(\"Range of ages is : \", ages[len(ages)-1]-ages[0])   # Range of the ages \n"
      ]
    },
    {
      "cell_type": "code",
      "source": [
        "#Question-2\n",
        "\n",
        "dog = { \"name\" : \"Bruno\"  , \"color\" : \"chocolate\", \"breed\" : \"german\" , \"legs\" : 4, \"age\" : 5}   #-dictionary of dog is created\n",
        "\n",
        "print(\"Dog : \", dog)  #-displaying dog dictionary\n",
        "\n",
        "student = {\"first_name\" : \"Rakesh\",\"last_name\" : \"Karnekanti\", \"gender\" : \"Male\",\"age\" : 22,\n",
        "           \"marital_status\" : \"Single\", \"skills\" : [\"C\", \"HTML\", \"Java\"],\n",
        "           \"country\" : \"India\",\"city\" : \"Hyderabad\", \"address\" : \"Telecom-colony\"}\n",
        "\n",
        "print(\"Student:\", student)      #-displaying student dictionary\n",
        "\n",
        "print(\"Length of the student dictonary is: \",len(student))  #- getting length of the student dictionary\n",
        "\n",
        "print(\"Skills : \",student[\"skills\"],\"and Data type of skills : \",type(student[\"skills\"]))  #- displaying datatype of skills\n",
        "\n",
        "student[\"skills\"].append(\"Bootsrap\")  #- adding new skill into the dictionary\n",
        "\n",
        "print(\"Updated Skill : \",student[\"skills\"])\n",
        "\n",
        "print(\"Keys are : \",student.keys())\n",
        "\n",
        "print(\"Values are : \",student.values())"
      ],
      "metadata": {
        "colab": {
          "base_uri": "https://localhost:8080/"
        },
        "id": "cbBgNCxFvLDF",
        "outputId": "89bc46bd-8c05-4198-9c32-55a36b3debaf"
      },
      "execution_count": null,
      "outputs": [
        {
          "output_type": "stream",
          "name": "stdout",
          "text": [
            "Dog :  {'name': 'Bruno', 'color': 'chocolate', 'breed': 'german', 'legs': 4, 'age': 5}\n",
            "Student: {'first_name': 'Rakesh', 'last_name': 'Karnekanti', 'gender': 'Male', 'age': 22, 'marital_status': 'Single', 'skills': ['C', 'HTML', 'Java'], 'country': 'India', 'city': 'Hyderabad', 'address': 'Telecom-colony'}\n",
            "Length of the student dictonary is:  9\n",
            "Skills :  ['C', 'HTML', 'Java'] and Data type of skills :  <class 'list'>\n",
            "Updated Skill :  ['C', 'HTML', 'Java', 'Bootsrap']\n",
            "Keys are :  dict_keys(['first_name', 'last_name', 'gender', 'age', 'marital_status', 'skills', 'country', 'city', 'address'])\n",
            "Values are :  dict_values(['Rakesh', 'Karnekanti', 'Male', 22, 'Single', ['C', 'HTML', 'Java', 'Bootsrap'], 'India', 'Hyderabad', 'Telecom-colony'])\n"
          ]
        }
      ]
    },
    {
      "cell_type": "code",
      "source": [
        "#Question-3\n",
        "\n",
        "sisters = (\"Honey\", \"Kushi\",\"Ammu\")  #-tuple is created as sisters\n",
        "\n",
        "brothers = (\"Rakesh\", \"Akhil\", \"Rishi\")   #-tuple is created as brothers\n",
        "\n",
        "print(\"Sisters : \",sisters,\"\\nBrothers: \",brothers)\n",
        "\n",
        "siblings = sisters + brothers  #- concatenated both tuples\n",
        "\n",
        "print (\"Siblings: \", siblings)    #- displaying sublings after concatenation\n",
        "\n",
        "print(\"I am having \", len(siblings) , \"siblings\")    #-length of the siblings\n",
        "\n",
        "fam = list(siblings)    #- using temporary variable for adding father and mother\n",
        "Father_name = \"Sudhakar\"\n",
        "Mother_name = \"Rama\"\n",
        "fam.append(Father_name)\n",
        "fam.append(Mother_name)\n",
        "\n",
        "Family = tuple(fam)     #- assigning values to family variable\n",
        "\n",
        "print(\"Family members are : \",Family)"
      ],
      "metadata": {
        "colab": {
          "base_uri": "https://localhost:8080/"
        },
        "id": "F3dnONGzmuek",
        "outputId": "80a17311-342a-40d5-dae5-85c0f116e4a3"
      },
      "execution_count": null,
      "outputs": [
        {
          "output_type": "stream",
          "name": "stdout",
          "text": [
            "Sisters :  ('Honey', 'Kushi', 'Ammu') \n",
            "Brothers:  ('Rakesh', 'Akhil', 'Rishi')\n",
            "Siblings:  ('Honey', 'Kushi', 'Ammu', 'Rakesh', 'Akhil', 'Rishi')\n",
            "I am having  6 siblings\n",
            "Family members are :  ('Honey', 'Kushi', 'Ammu', 'Rakesh', 'Akhil', 'Rishi', 'Sudhakar', 'Rama')\n"
          ]
        }
      ]
    },
    {
      "cell_type": "code",
      "source": [
        "#Question-4\n",
        "\n",
        "it_companies = {'Facebook', 'Google', 'Microsoft', 'Apple', 'IBM', 'Oracle', 'Amazon'}\n",
        "\n",
        "print(\"IT companies are : \", it_companies)     #-displaying the set of IT companies\n",
        "\n",
        "print(\"Length of the IT companies is: \",len(it_companies))    #-length of the set\n",
        "\n",
        "it_companies.add(\"Twiter\")    #- adding new element into the set\n",
        "\n",
        "print(\"Updated IT companies: \",it_companies)\n",
        "\n",
        "multiple_companies = { 'Accenture', 'youtube' }    #- adding no of items into a variable\n",
        "\n",
        "it_companies.update(multiple_companies)\n",
        "\n",
        "print(\"Latest set of IT companies : \",it_companies)\n",
        "\n",
        "it_companies.remove(\"Accenture\")\n",
        "\n",
        "print(\"After Removing one item from set : \",it_companies)\n",
        "\n",
        "#Difference between remove() and discard()\n",
        "\n",
        "\"\"\" remove and discard methods are used to eleminate the specfic item from the set.\n",
        "The difference between both the methods is , if specific item is not present in the set \n",
        "which is required to delete then remove method will raise an error whereas\n",
        " discard will not give any error.\n",
        "\"\"\"\n",
        "it_companies.discard(\"INstagram\")\n",
        "\n",
        "print(\"After discard method : \", it_companies)\n",
        "\n",
        "A = {19, 22, 24, 20, 25, 26}  #- sets A & B are decleared\n",
        "\n",
        "B = {19, 22, 20, 25, 26, 24, 28, 27}\n",
        "\n",
        "Z=A.union(B)     #joining both sets\n",
        "\n",
        "print(\"Joining set A and B : \",Z)\n",
        "\n",
        "Intersec = A.intersection(B)    #-checking  intersection of set A and B\n",
        "\n",
        "print(\"Intersection of set A and B : \", Intersec)\n",
        " \n",
        "subse = A.issubset(B)     #-checking  subset of B is A\n",
        "\n",
        "print(\"A is subset of B : \",subse)\n",
        "\n",
        "disjoin = A.isdisjoint(B)    #-checking  A is disjoint set of B \n",
        "\n",
        "print(\"A is disjoint set of B : \",disjoin)\n",
        "\n",
        "\n",
        "print(\"Joining set A with set B : \",A.union(B))    #joining A with B \n",
        "\n",
        "print(\"Joining set B with set A : \",B.union(A))    #joining A with B \n",
        "\n",
        "symmetri = A.symmetric_difference(B)\n",
        "\n",
        "print(\"Symmetric difference between A and B : \",symmetri)\n",
        "\n",
        "A.clear()     #Deleting the complete set\n",
        "\n",
        "B.clear()     #Deleting the complete set\n",
        "\n",
        "print(A)\n",
        "print(B)\n",
        "\n",
        "#Converting ages into complete set\n",
        "\n",
        "age = [22, 19, 24, 25, 26, 24, 25, 24]\n",
        "\n",
        "print(\"Ages :\",age)   #-list of ages \n",
        "\n",
        "set_age = set(age)\n",
        "\n",
        "print(\"Converted age into set : \",set_age)   #-set of ages \n",
        "\n",
        "print(\"length of set age : \",len(set_age))\n",
        "print(\"length of list age : \",len(age))\n"
      ],
      "metadata": {
        "colab": {
          "base_uri": "https://localhost:8080/"
        },
        "id": "u5D6_zO3n3xp",
        "outputId": "5c2c4b9d-895a-4881-a2af-b4072de9b07c"
      },
      "execution_count": null,
      "outputs": [
        {
          "output_type": "stream",
          "name": "stdout",
          "text": [
            "IT companies are :  {'Oracle', 'Amazon', 'Google', 'Facebook', 'Apple', 'Microsoft', 'IBM'}\n",
            "Length of the IT companies is:  7\n",
            "Updated IT companies:  {'Oracle', 'Amazon', 'Google', 'Twiter', 'Facebook', 'Apple', 'Microsoft', 'IBM'}\n",
            "Latest set of IT companies :  {'Oracle', 'Amazon', 'Google', 'Twiter', 'Facebook', 'Accenture', 'Apple', 'youtube', 'Microsoft', 'IBM'}\n",
            "After Removing one item from set :  {'Oracle', 'Amazon', 'Google', 'Twiter', 'Facebook', 'Apple', 'youtube', 'Microsoft', 'IBM'}\n",
            "After discard method :  {'Oracle', 'Amazon', 'Google', 'Twiter', 'Facebook', 'Apple', 'youtube', 'Microsoft', 'IBM'}\n",
            "Joining set A and B :  {19, 20, 22, 24, 25, 26, 27, 28}\n",
            "Intersection of set A and B :  {19, 20, 22, 24, 25, 26}\n",
            "A is subset of B :  True\n",
            "A is disjoint set of B :  False\n",
            "Joining set A with set B :  {19, 20, 22, 24, 25, 26, 27, 28}\n",
            "Joining set B with set A :  {19, 20, 22, 24, 25, 26, 27, 28}\n",
            "Symmetric difference between A and B :  {27, 28}\n",
            "set()\n",
            "set()\n",
            "Ages : [22, 19, 24, 25, 26, 24, 25, 24]\n",
            "Converted age into set :  {19, 22, 24, 25, 26}\n",
            "length of set age :  5\n",
            "length of list age :  8\n"
          ]
        }
      ]
    },
    {
      "cell_type": "code",
      "source": [
        "#Question-5\n",
        "\n",
        "circle_radius=30   #-radius is assigned\n",
        "\n",
        "_area_of_circle_ = 3.14 * (circle_radius**2)       #-formula for area pf circle\n",
        "\n",
        "print(\"Area of circle : \", _area_of_circle_)    \n",
        "\n",
        "_circum_of_circle_ = 2 * 3.14 * circle_radius   #-formula for circumference of circle\n",
        "\n",
        "print(\"Circumference of circle : \", _circum_of_circle_)\n",
        "\n",
        "print()\n",
        "\n",
        "user_radius = int(input(\"Enter the radius \"))\n",
        "\n",
        "area_of_circle = 3.14 * (user_radius**2)\n",
        "\n",
        "print(\"Area of circle with new radius:\", area_of_circle)\n"
      ],
      "metadata": {
        "colab": {
          "base_uri": "https://localhost:8080/"
        },
        "id": "3fLQhM54koK6",
        "outputId": "aaa2c36f-5797-45ec-b00a-978c8da3dc40"
      },
      "execution_count": null,
      "outputs": [
        {
          "output_type": "stream",
          "name": "stdout",
          "text": [
            "Area of circle :  2826.0\n",
            "Circumference of circle :  188.4\n",
            "\n",
            "Enter the radius 7\n",
            "Area of circle with new radius: 153.86\n"
          ]
        }
      ]
    },
    {
      "cell_type": "code",
      "source": [
        "#Question-6\n",
        "\n",
        "s = \"I am a teacher and I love to inspire and teach people\"    #-string is assigned\n",
        "\n",
        "print(\"Given string : \", s)\n",
        "\n",
        "converted_set = set(s.split(\" \"))     #- string is stored in set by using split method\n",
        "\n",
        "print(\"Number of unique words:\", len(converted_set))\n",
        "\n",
        "print(\"Unique words are : \", converted_set)"
      ],
      "metadata": {
        "colab": {
          "base_uri": "https://localhost:8080/"
        },
        "id": "F6HutdpnkyPU",
        "outputId": "4b331453-f88b-492e-ce86-a2cabfbb14c7"
      },
      "execution_count": null,
      "outputs": [
        {
          "output_type": "stream",
          "name": "stdout",
          "text": [
            "Given string :  I am a teacher and I love to inspire and teach people\n",
            "Number of unique words: 10\n",
            "Unique words are :  {'inspire', 'love', 'a', 'people', 'I', 'and', 'teach', 'am', 'teacher', 'to'}\n"
          ]
        }
      ]
    },
    {
      "cell_type": "code",
      "source": [
        "#Question-7\n",
        "\n",
        "print(\"Name\\t\\tAge\\tCountry \\tCity\")    #-using \\t for tab space\n",
        "print(\"Asabeneh\\t250\\tFinland \\tHelsinki\")"
      ],
      "metadata": {
        "colab": {
          "base_uri": "https://localhost:8080/"
        },
        "id": "vc8wmNsAlN5d",
        "outputId": "9922177d-1327-4352-82eb-5997427425ec"
      },
      "execution_count": null,
      "outputs": [
        {
          "output_type": "stream",
          "name": "stdout",
          "text": [
            "Name\t\tAge\tCountry \tCity\n",
            "Asabeneh\t250\tFinland \tHelsinki\n"
          ]
        }
      ]
    },
    {
      "cell_type": "code",
      "source": [
        "#Question-8\n",
        "\n",
        "radius = 10\n",
        "area = 3.14 * radius ** 2\n",
        "print(\"The area of circle with radius {} is {} meters square.\".format(radius,area))   #displaying content by using format method"
      ],
      "metadata": {
        "colab": {
          "base_uri": "https://localhost:8080/"
        },
        "id": "v6Wt6-k1ljEl",
        "outputId": "feb42675-db62-4485-ad68-09d2758560db"
      },
      "execution_count": null,
      "outputs": [
        {
          "output_type": "stream",
          "name": "stdout",
          "text": [
            "The area of circle with radius 10 is 314.0 meters square.\n"
          ]
        }
      ]
    },
    {
      "cell_type": "code",
      "source": [
        "11#Question-9\n",
        "\n",
        "Lbs = []      #-empty list\n",
        "\n",
        "no_of_input = int(input(\"Enter number of weights : \"))\n",
        "  \n",
        "kg=[]     #-empty list to convert lbs to kgs\n",
        "\n",
        "for item in range(0, no_of_input):\n",
        "    Lbs.append(int(input()))\n",
        "    kg.append(Lbs[item]* 0.4535)\n",
        "\n",
        "print(\"The weights of \",no_of_input,\" students:\", Lbs)\n",
        "print(\"The weights of \",no_of_input,\"students converted to KG:\", kg)"
      ],
      "metadata": {
        "colab": {
          "base_uri": "https://localhost:8080/"
        },
        "id": "MKQChFExlmhd",
        "outputId": "51707139-fe65-4a08-a40a-9c3226666c82"
      },
      "execution_count": null,
      "outputs": [
        {
          "output_type": "stream",
          "name": "stdout",
          "text": [
            "Enter number of weights : 4\n",
            "150\n",
            "55\n",
            "170\n",
            "66\n",
            "The weights of  4  students: [150, 55, 170, 66]\n",
            "The weights of  4 students converted to KG: [68.025, 24.942500000000003, 77.095, 29.931]\n"
          ]
        }
      ]
    }
  ]
}